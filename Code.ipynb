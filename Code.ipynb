{
 "cells": [
  {
   "cell_type": "code",
   "execution_count": 1,
   "metadata": {
    "_cell_guid": "b1076dfc-b9ad-4769-8c92-a6c4dae69d19",
    "_uuid": "8f2839f25d086af736a60e9eeb907d3b93b6e0e5",
    "execution": {
     "iopub.execute_input": "2022-01-30T22:46:11.033457Z",
     "iopub.status.busy": "2022-01-30T22:46:11.033118Z",
     "iopub.status.idle": "2022-01-30T22:46:11.039341Z",
     "shell.execute_reply": "2022-01-30T22:46:11.038182Z",
     "shell.execute_reply.started": "2022-01-30T22:46:11.033420Z"
    }
   },
   "outputs": [],
   "source": [
    "# This Python 3 environment comes with many helpful analytics libraries installed\n",
    "# It is defined by the kaggle/python Docker image: https://github.com/kaggle/docker-python\n",
    "# For example, here's several helpful packages to load\n",
    "\n",
    "import numpy as np # linear algebra\n",
    "import pandas as pd # data processing, CSV file I/O (e.g. pd.read_csv)\n",
    "\n",
    "# Input data files are available in the read-only \"../input/\" directory\n",
    "# For example, running this (by clicking run or pressing Shift+Enter) will list all files under the input directory\n",
    "\n",
    "import os\n",
    "import sys\n",
    "# for dirname, _, filenames in os.walk('/kaggle/input'):\n",
    "#     for filename in filenames:\n",
    "#         print(os.path.join(dirname, filename))\n",
    "\n",
    "# You can write up to 20GB to the current directory (/kaggle/working/) that gets preserved as output when you create a version using \"Save & Run All\" \n",
    "# You can also write temporary files to /kaggle/temp/, but they won't be saved outside of the current session"
   ]
  },
  {
   "cell_type": "code",
   "execution_count": 2,
   "metadata": {
    "execution": {
     "iopub.execute_input": "2022-01-30T22:46:11.041968Z",
     "iopub.status.busy": "2022-01-30T22:46:11.041128Z",
     "iopub.status.idle": "2022-01-30T22:46:12.223117Z",
     "shell.execute_reply": "2022-01-30T22:46:12.222261Z",
     "shell.execute_reply.started": "2022-01-30T22:46:11.041925Z"
    }
   },
   "outputs": [
    {
     "name": "stdout",
     "output_type": "stream",
     "text": [
      "./archive/2020.csv\n",
      "./archive/2021.csv\n",
      "./archive/2019.csv\n",
      "./archive/2018.csv\n",
      "./archive/2015.csv\n",
      "./archive/2014.csv\n",
      "./archive/2016.csv\n",
      "./archive/2017.csv\n",
      "./archive/2013.csv\n",
      "./archive/2012.csv\n",
      "./archive/2010.csv\n",
      "./archive/2011.csv\n"
     ]
    }
   ],
   "source": [
    "csvs = [] \n",
    "for dirname, _, filenames in os.walk('./archive'):\n",
    "    for filename in filenames:\n",
    "        path = os.path.join(dirname, filename) \n",
    "        print(path)\n",
    "        csvs.append( pd.read_csv(path) )\n",
    "        \n",
    "df = pd.concat(csvs, axis = 0)"
   ]
  },
  {
   "cell_type": "code",
   "execution_count": 3,
   "metadata": {
    "execution": {
     "iopub.execute_input": "2022-01-30T22:46:12.228822Z",
     "iopub.status.busy": "2022-01-30T22:46:12.227954Z",
     "iopub.status.idle": "2022-01-30T22:46:12.277636Z",
     "shell.execute_reply": "2022-01-30T22:46:12.276878Z",
     "shell.execute_reply.started": "2022-01-30T22:46:12.228774Z"
    }
   },
   "outputs": [
    {
     "data": {
      "text/html": [
       "<div>\n",
       "<style scoped>\n",
       "    .dataframe tbody tr th:only-of-type {\n",
       "        vertical-align: middle;\n",
       "    }\n",
       "\n",
       "    .dataframe tbody tr th {\n",
       "        vertical-align: top;\n",
       "    }\n",
       "\n",
       "    .dataframe thead th {\n",
       "        text-align: right;\n",
       "    }\n",
       "</style>\n",
       "<table border=\"1\" class=\"dataframe\">\n",
       "  <thead>\n",
       "    <tr style=\"text-align: right;\">\n",
       "      <th></th>\n",
       "      <th>Unnamed: 0</th>\n",
       "      <th>id</th>\n",
       "      <th>conversation_id</th>\n",
       "      <th>created_at</th>\n",
       "      <th>date</th>\n",
       "      <th>timezone</th>\n",
       "      <th>place</th>\n",
       "      <th>tweet</th>\n",
       "      <th>language</th>\n",
       "      <th>hashtags</th>\n",
       "      <th>...</th>\n",
       "      <th>geo</th>\n",
       "      <th>source</th>\n",
       "      <th>user_rt_id</th>\n",
       "      <th>user_rt</th>\n",
       "      <th>retweet_id</th>\n",
       "      <th>reply_to</th>\n",
       "      <th>retweet_date</th>\n",
       "      <th>translate</th>\n",
       "      <th>trans_src</th>\n",
       "      <th>trans_dest</th>\n",
       "    </tr>\n",
       "  </thead>\n",
       "  <tbody>\n",
       "    <tr>\n",
       "      <th>0</th>\n",
       "      <td>0</td>\n",
       "      <td>1343644462036086785</td>\n",
       "      <td>1343320495127633920</td>\n",
       "      <td>1.609185e+12</td>\n",
       "      <td>2020-12-28 19:46:18</td>\n",
       "      <td>0</td>\n",
       "      <td>NaN</td>\n",
       "      <td>Entertainment will be critical when cars drive...</td>\n",
       "      <td>en</td>\n",
       "      <td>[]</td>\n",
       "      <td>...</td>\n",
       "      <td>NaN</td>\n",
       "      <td>NaN</td>\n",
       "      <td>NaN</td>\n",
       "      <td>NaN</td>\n",
       "      <td>NaN</td>\n",
       "      <td>[]</td>\n",
       "      <td>NaN</td>\n",
       "      <td>NaN</td>\n",
       "      <td>NaN</td>\n",
       "      <td>NaN</td>\n",
       "    </tr>\n",
       "    <tr>\n",
       "      <th>1</th>\n",
       "      <td>1</td>\n",
       "      <td>1343619610617077760</td>\n",
       "      <td>1343386617294295040</td>\n",
       "      <td>1.609179e+12</td>\n",
       "      <td>2020-12-28 18:07:33</td>\n",
       "      <td>0</td>\n",
       "      <td>NaN</td>\n",
       "      <td>@kimpaquette Just meeting with Larry Ellison t...</td>\n",
       "      <td>en</td>\n",
       "      <td>[]</td>\n",
       "      <td>...</td>\n",
       "      <td>NaN</td>\n",
       "      <td>NaN</td>\n",
       "      <td>NaN</td>\n",
       "      <td>NaN</td>\n",
       "      <td>NaN</td>\n",
       "      <td>[{'screen_name': 'kimpaquette', 'name': 'Kim P...</td>\n",
       "      <td>NaN</td>\n",
       "      <td>NaN</td>\n",
       "      <td>NaN</td>\n",
       "      <td>NaN</td>\n",
       "    </tr>\n",
       "    <tr>\n",
       "      <th>2</th>\n",
       "      <td>2</td>\n",
       "      <td>1343608616960491521</td>\n",
       "      <td>1343576442722893825</td>\n",
       "      <td>1.609176e+12</td>\n",
       "      <td>2020-12-28 17:23:51</td>\n",
       "      <td>0</td>\n",
       "      <td>NaN</td>\n",
       "      <td>@richierichhhhh_ Absolutely</td>\n",
       "      <td>en</td>\n",
       "      <td>[]</td>\n",
       "      <td>...</td>\n",
       "      <td>NaN</td>\n",
       "      <td>NaN</td>\n",
       "      <td>NaN</td>\n",
       "      <td>NaN</td>\n",
       "      <td>NaN</td>\n",
       "      <td>[{'screen_name': 'richierichhhhh_', 'name': 'R...</td>\n",
       "      <td>NaN</td>\n",
       "      <td>NaN</td>\n",
       "      <td>NaN</td>\n",
       "      <td>NaN</td>\n",
       "    </tr>\n",
       "    <tr>\n",
       "      <th>3</th>\n",
       "      <td>3</td>\n",
       "      <td>1343608530998153222</td>\n",
       "      <td>1343320495127633920</td>\n",
       "      <td>1.609176e+12</td>\n",
       "      <td>2020-12-28 17:23:31</td>\n",
       "      <td>0</td>\n",
       "      <td>NaN</td>\n",
       "      <td>What should Tesla do with in-car gaming in an ...</td>\n",
       "      <td>en</td>\n",
       "      <td>[]</td>\n",
       "      <td>...</td>\n",
       "      <td>NaN</td>\n",
       "      <td>NaN</td>\n",
       "      <td>NaN</td>\n",
       "      <td>NaN</td>\n",
       "      <td>NaN</td>\n",
       "      <td>[]</td>\n",
       "      <td>NaN</td>\n",
       "      <td>NaN</td>\n",
       "      <td>NaN</td>\n",
       "      <td>NaN</td>\n",
       "    </tr>\n",
       "    <tr>\n",
       "      <th>4</th>\n",
       "      <td>4</td>\n",
       "      <td>1343431408052662273</td>\n",
       "      <td>1343043963096326147</td>\n",
       "      <td>1.609134e+12</td>\n",
       "      <td>2020-12-28 05:39:42</td>\n",
       "      <td>0</td>\n",
       "      <td>NaN</td>\n",
       "      <td>@PPathole @WSJ Absolutely</td>\n",
       "      <td>en</td>\n",
       "      <td>[]</td>\n",
       "      <td>...</td>\n",
       "      <td>NaN</td>\n",
       "      <td>NaN</td>\n",
       "      <td>NaN</td>\n",
       "      <td>NaN</td>\n",
       "      <td>NaN</td>\n",
       "      <td>[{'screen_name': 'PPathole', 'name': 'Pranay P...</td>\n",
       "      <td>NaN</td>\n",
       "      <td>NaN</td>\n",
       "      <td>NaN</td>\n",
       "      <td>NaN</td>\n",
       "    </tr>\n",
       "  </tbody>\n",
       "</table>\n",
       "<p>5 rows × 39 columns</p>\n",
       "</div>"
      ],
      "text/plain": [
       "   Unnamed: 0                   id      conversation_id    created_at  \\\n",
       "0           0  1343644462036086785  1343320495127633920  1.609185e+12   \n",
       "1           1  1343619610617077760  1343386617294295040  1.609179e+12   \n",
       "2           2  1343608616960491521  1343576442722893825  1.609176e+12   \n",
       "3           3  1343608530998153222  1343320495127633920  1.609176e+12   \n",
       "4           4  1343431408052662273  1343043963096326147  1.609134e+12   \n",
       "\n",
       "                  date  timezone  place  \\\n",
       "0  2020-12-28 19:46:18         0    NaN   \n",
       "1  2020-12-28 18:07:33         0    NaN   \n",
       "2  2020-12-28 17:23:51         0    NaN   \n",
       "3  2020-12-28 17:23:31         0    NaN   \n",
       "4  2020-12-28 05:39:42         0    NaN   \n",
       "\n",
       "                                               tweet language hashtags  ...  \\\n",
       "0  Entertainment will be critical when cars drive...       en       []  ...   \n",
       "1  @kimpaquette Just meeting with Larry Ellison t...       en       []  ...   \n",
       "2                        @richierichhhhh_ Absolutely       en       []  ...   \n",
       "3  What should Tesla do with in-car gaming in an ...       en       []  ...   \n",
       "4                          @PPathole @WSJ Absolutely       en       []  ...   \n",
       "\n",
       "  geo  source  user_rt_id user_rt retweet_id  \\\n",
       "0 NaN     NaN         NaN     NaN        NaN   \n",
       "1 NaN     NaN         NaN     NaN        NaN   \n",
       "2 NaN     NaN         NaN     NaN        NaN   \n",
       "3 NaN     NaN         NaN     NaN        NaN   \n",
       "4 NaN     NaN         NaN     NaN        NaN   \n",
       "\n",
       "                                            reply_to  retweet_date translate  \\\n",
       "0                                                 []           NaN       NaN   \n",
       "1  [{'screen_name': 'kimpaquette', 'name': 'Kim P...           NaN       NaN   \n",
       "2  [{'screen_name': 'richierichhhhh_', 'name': 'R...           NaN       NaN   \n",
       "3                                                 []           NaN       NaN   \n",
       "4  [{'screen_name': 'PPathole', 'name': 'Pranay P...           NaN       NaN   \n",
       "\n",
       "  trans_src trans_dest  \n",
       "0       NaN        NaN  \n",
       "1       NaN        NaN  \n",
       "2       NaN        NaN  \n",
       "3       NaN        NaN  \n",
       "4       NaN        NaN  \n",
       "\n",
       "[5 rows x 39 columns]"
      ]
     },
     "execution_count": 3,
     "metadata": {},
     "output_type": "execute_result"
    }
   ],
   "source": [
    "df.head()"
   ]
  },
  {
   "cell_type": "code",
   "execution_count": 4,
   "metadata": {
    "execution": {
     "iopub.execute_input": "2022-01-30T22:46:12.284801Z",
     "iopub.status.busy": "2022-01-30T22:46:12.282449Z",
     "iopub.status.idle": "2022-01-30T22:46:12.378444Z",
     "shell.execute_reply": "2022-01-30T22:46:12.377665Z",
     "shell.execute_reply.started": "2022-01-30T22:46:12.284750Z"
    }
   },
   "outputs": [
    {
     "name": "stdout",
     "output_type": "stream",
     "text": [
      "<class 'pandas.core.frame.DataFrame'>\n",
      "Int64Index: 43074 entries, 0 to 26\n",
      "Data columns (total 39 columns):\n",
      " #   Column           Non-Null Count  Dtype  \n",
      "---  ------           --------------  -----  \n",
      " 0   Unnamed: 0       43074 non-null  int64  \n",
      " 1   id               43074 non-null  int64  \n",
      " 2   conversation_id  43074 non-null  int64  \n",
      " 3   created_at       43074 non-null  float64\n",
      " 4   date             43074 non-null  object \n",
      " 5   timezone         43074 non-null  int64  \n",
      " 6   place            0 non-null      float64\n",
      " 7   tweet            43074 non-null  object \n",
      " 8   language         43074 non-null  object \n",
      " 9   hashtags         43074 non-null  object \n",
      " 10  cashtags         43074 non-null  object \n",
      " 11  user_id          43074 non-null  int64  \n",
      " 12  user_id_str      43074 non-null  int64  \n",
      " 13  username         43074 non-null  object \n",
      " 14  name             43074 non-null  object \n",
      " 15  day              43074 non-null  int64  \n",
      " 16  hour             43074 non-null  int64  \n",
      " 17  link             43074 non-null  object \n",
      " 18  urls             43074 non-null  object \n",
      " 19  photos           43074 non-null  object \n",
      " 20  video            43074 non-null  int64  \n",
      " 21  thumbnail        2807 non-null   object \n",
      " 22  retweet          43074 non-null  bool   \n",
      " 23  nlikes           43074 non-null  int64  \n",
      " 24  nreplies         43074 non-null  int64  \n",
      " 25  nretweets        43074 non-null  int64  \n",
      " 26  quote_url        1384 non-null   object \n",
      " 27  search           43074 non-null  object \n",
      " 28  near             0 non-null      float64\n",
      " 29  geo              0 non-null      float64\n",
      " 30  source           0 non-null      float64\n",
      " 31  user_rt_id       0 non-null      float64\n",
      " 32  user_rt          0 non-null      float64\n",
      " 33  retweet_id       0 non-null      float64\n",
      " 34  reply_to         43074 non-null  object \n",
      " 35  retweet_date     0 non-null      float64\n",
      " 36  translate        0 non-null      float64\n",
      " 37  trans_src        0 non-null      float64\n",
      " 38  trans_dest       0 non-null      float64\n",
      "dtypes: bool(1), float64(12), int64(12), object(14)\n",
      "memory usage: 12.9+ MB\n"
     ]
    }
   ],
   "source": [
    "df.info()"
   ]
  },
  {
   "cell_type": "markdown",
   "metadata": {},
   "source": [
    "**Question 1: Estimate the average number of people that 'like' any given tweet by Elon Musk.**"
   ]
  },
  {
   "cell_type": "code",
   "execution_count": 5,
   "metadata": {
    "execution": {
     "iopub.execute_input": "2022-01-30T22:46:12.385661Z",
     "iopub.status.busy": "2022-01-30T22:46:12.383428Z",
     "iopub.status.idle": "2022-01-30T22:46:12.395868Z",
     "shell.execute_reply": "2022-01-30T22:46:12.394924Z",
     "shell.execute_reply.started": "2022-01-30T22:46:12.385612Z"
    }
   },
   "outputs": [
    {
     "name": "stdout",
     "output_type": "stream",
     "text": [
      "14705\n"
     ]
    }
   ],
   "source": [
    "q1 = round( df.nlikes.mean() )\n",
    "print(q1)"
   ]
  },
  {
   "cell_type": "markdown",
   "metadata": {},
   "source": [
    "**Question 2: From the above, estimate how many people view one of his tweets, on average. Assume that engagement rate, calculated by summing likes, replies, and retweets, and dividing by views, is roughly .05 for any given tweet.**"
   ]
  },
  {
   "cell_type": "code",
   "execution_count": 6,
   "metadata": {
    "execution": {
     "iopub.execute_input": "2022-01-30T22:46:12.397696Z",
     "iopub.status.busy": "2022-01-30T22:46:12.397278Z",
     "iopub.status.idle": "2022-01-30T22:46:12.414837Z",
     "shell.execute_reply": "2022-01-30T22:46:12.413880Z",
     "shell.execute_reply.started": "2022-01-30T22:46:12.397660Z"
    }
   },
   "outputs": [
    {
     "name": "stdout",
     "output_type": "stream",
     "text": [
      "338864\n"
     ]
    }
   ],
   "source": [
    "q2 = round( ( df.nlikes.mean() + df.nreplies.mean() + df.nretweets.mean() ) / 0.05 )\n",
    "print(q2)"
   ]
  },
  {
   "cell_type": "markdown",
   "metadata": {},
   "source": [
    "**Question 3: Estimate the average amount of data (in megabytes) stored for each Elon Musk tweet. Consider the sizes and types of any attached media.**"
   ]
  },
  {
   "cell_type": "code",
   "execution_count": 7,
   "metadata": {
    "execution": {
     "iopub.execute_input": "2022-01-30T23:00:33.097661Z",
     "iopub.status.busy": "2022-01-30T23:00:33.097304Z",
     "iopub.status.idle": "2022-01-30T23:01:33.207628Z",
     "shell.execute_reply": "2022-01-30T23:01:33.206554Z",
     "shell.execute_reply.started": "2022-01-30T23:00:33.097622Z"
    }
   },
   "outputs": [
    {
     "name": "stdout",
     "output_type": "stream",
     "text": [
      "119110\n"
     ]
    }
   ],
   "source": [
    "import requests\n",
    "\n",
    "cols = ['date', 'tweet', 'language', 'hashtags', 'cashtags', 'username', 'name', 'link', 'urls', 'photos', 'thumbnail', 'quote_url', 'search', 'reply_to']\n",
    "\n",
    "base_bits = 1 + 64 * 12 + 64 * 12\n",
    "estimate_video_bits = 200 * 1024 * 1024\n",
    "total_bits = 0\n",
    "\n",
    "n_sample = 250\n",
    "sdf = df.sample(n=n_sample, random_state=498)\n",
    "for idx, row in sdf.iterrows():\n",
    "    total_bits += base_bits\n",
    "    for col in cols:\n",
    "        total_bits += sys.getsizeof(row[col]) * 8\n",
    "    \n",
    "    if row['photos'] and len(row['photos']) > 2:\n",
    "#         print(row['photos'])\n",
    "        photos = row['photos'].replace(\"'\", \"\")\n",
    "        photos = photos.replace(\"[\", \"\")\n",
    "        photos = photos.replace(\"]\", \"\")\n",
    "        photos = photos.split(',')\n",
    "        for photo in photos:\n",
    "            photo = photo.strip()\n",
    "#             print(photo)\n",
    "            try:\n",
    "                resp = requests.head(photo, allow_redirects=True)\n",
    "                total_bits += int(resp.headers['Content-Length']) * 8\n",
    "            except:\n",
    "                pass\n",
    "\n",
    "    if isinstance(row['thumbnail'], str):\n",
    "        thumbnail = row['thumbnail'].strip()\n",
    "#         print(thumbnail)\n",
    "        if \"video\" in thumbnail:\n",
    "#             print(thumbnail)\n",
    "            total_bits += estimate_video_bits\n",
    "        try:\n",
    "            resp = requests.head(thumbnail, allow_redirects=True)\n",
    "            total_bits += int(resp.headers['Content-Length']) * 8\n",
    "        except:\n",
    "            pass\n",
    "\n",
    "\n",
    "q3 = round(total_bits / 8 / n_sample)\n",
    "print(q3)"
   ]
  },
  {
   "cell_type": "markdown",
   "metadata": {},
   "source": [
    "**Question 4: Using the answers above, estimate the total data transfer involved in displaying any given Elon Musk tweet to Twitter users.**"
   ]
  },
  {
   "cell_type": "code",
   "execution_count": 8,
   "metadata": {},
   "outputs": [
    {
     "name": "stdout",
     "output_type": "stream",
     "text": [
      "40362091040\n"
     ]
    }
   ],
   "source": [
    "q4 = q2 * q3\n",
    "print(q4)"
   ]
  },
  {
   "cell_type": "markdown",
   "metadata": {},
   "source": [
    "**Question 5: Estimate how many Elon tweets are viewed, per- minute, by the site's userbase.**"
   ]
  },
  {
   "cell_type": "code",
   "execution_count": 9,
   "metadata": {},
   "outputs": [
    {
     "name": "stdout",
     "output_type": "stream",
     "text": [
      "2525\n"
     ]
    }
   ],
   "source": [
    "q5 = round( q2 * df.shape[0] / (11 * 365 * 24 * 60) )\n",
    "print(q5)"
   ]
  },
  {
   "cell_type": "markdown",
   "metadata": {},
   "source": [
    "**Question 6: Using the above, estimate how much data is accessed per-minute by Twitter in the process of displaying Elon Musk tweets.**"
   ]
  },
  {
   "cell_type": "code",
   "execution_count": 10,
   "metadata": {},
   "outputs": [
    {
     "name": "stdout",
     "output_type": "stream",
     "text": [
      "300752750\n"
     ]
    }
   ],
   "source": [
    "q6 = q3 * q5\n",
    "print(q6)"
   ]
  },
  {
   "cell_type": "markdown",
   "metadata": {},
   "source": [
    "**Question 7: Choose a function that involves modifying a tweet (say, updating its 'likes' count, which you can assume is cached in a tweet's associated database row). How much data do you believe is touched by this operation on a monthly basis? Consider the amount of data affected, the frequency at which the operation is carried out, and so on.**"
   ]
  },
  {
   "cell_type": "markdown",
   "metadata": {},
   "source": [
    "I'm going to estimate the function of updating 'retweet' count for any given Elon Musk tweet."
   ]
  },
  {
   "cell_type": "code",
   "execution_count": 11,
   "metadata": {},
   "outputs": [
    {
     "name": "stdout",
     "output_type": "stream",
     "text": [
      "9345753\n"
     ]
    }
   ],
   "source": [
    "# First, estimate the average retweets per tweet.\n",
    "avgRetweetPerTweet = round( df.nretweets.mean() )\n",
    "\n",
    "# Second, convert the previous result into monthly retweet count.\n",
    "monthlyRetweetCnt = (avgRetweetPerTweet * df.shape[0] / (11 * 12) )\n",
    "\n",
    "# Third, calculate the data touched by updating the column \"nretweets\".\n",
    "# I assume that every user can retweet the same tweet multiple times,\n",
    "# so I do not need to check if the user has already retweeted this tweet or not.\n",
    "# Also, I'll have to retrieve the original value first and then store the value back again,\n",
    "# therefore, one update on \"nretweets\" would require 2 * 8 Bytes of data,\n",
    "# assuming the database uses int64 to store the value.\n",
    "\n",
    "q7 = round( monthlyRetweetCnt * 2 * 8 )\n",
    "print(q7)"
   ]
  }
 ],
 "metadata": {
  "kernelspec": {
   "display_name": "Python 3 (ipykernel)",
   "language": "python",
   "name": "python3"
  },
  "language_info": {
   "codemirror_mode": {
    "name": "ipython",
    "version": 3
   },
   "file_extension": ".py",
   "mimetype": "text/x-python",
   "name": "python",
   "nbconvert_exporter": "python",
   "pygments_lexer": "ipython3",
   "version": "3.9.7"
  }
 },
 "nbformat": 4,
 "nbformat_minor": 4
}
